{
 "cells": [
  {
   "cell_type": "code",
   "execution_count": 24,
   "metadata": {},
   "outputs": [],
   "source": [
    "import sqlite3\n",
    "import pandas as pd\n",
    "from skimpy import skim\n",
    "import numpy as np\n",
    "import seaborn as sns\n",
    "import missingno as msno\n",
    "import re\n",
    "from datetime import datetime\n",
    "from collections import defaultdict\n",
    "import math"
   ]
  },
  {
   "cell_type": "code",
   "execution_count": 25,
   "metadata": {},
   "outputs": [],
   "source": [
    "# Connexion à la base de données SQLite\n",
    "connexion = sqlite3.connect('/Users/f.b/Desktop/Data_Science/Clock_industry/Scripts/Data/montre.db')\n",
    "\n",
    "# Exécution d'une requête SQL pour récupérer des données et conversion en DataFrame\n",
    "df = pd.read_sql_query('SELECT * FROM montre', connexion)\n",
    "\n",
    "# Fermeture de la connexion\n",
    "connexion.close()\n",
    "\n",
    "# Conversion de la base en format CSV \n",
    "df.to_csv('/Users/f.b/Desktop/Data_Science/Clock_industry/Scripts/Data/watches_database.csv')\n",
    "\n",
    "# Chargement de la BDD sans la colonne id: \n",
    "df = df.iloc[:, 1:]"
   ]
  },
  {
   "cell_type": "code",
   "execution_count": 26,
   "metadata": {},
   "outputs": [],
   "source": [
    "# Fonction de nettoyage pour chaque colonne\n",
    "def nettoyer_colonnes(df, majuscule=True, remplacer_nan=np.nan) -> pd.DataFrame:\n",
    "    for col in df.columns:\n",
    "        # Supprimer les crochets et les apostrophes dans les chaînes de caractères\n",
    "        df[col] = df[col].apply(lambda x: re.sub(r\"[\\[\\]'\\\"()]\", '', str(x)))\n",
    "        \n",
    "        # Supprimer les espaces multiples\n",
    "        df[col] = df[col].apply(lambda x: re.sub(r'\\s+', ' ', x).strip() if isinstance(x, str) else x)\n",
    "     \n",
    "    df = df.drop(columns='Date_recup')        \n",
    "    df.drop_duplicates(inplace=True)\n",
    "    \n",
    "    colonnes = df.columns \n",
    "    \n",
    "    for col in colonnes:\n",
    "        # Remplacer les valeurs NaN par la valeur spécifiée\n",
    "        df[col] = df[col].fillna(remplacer_nan)\n",
    "        \n",
    "        # Supprimer les espaces en début et en fin de chaîne\n",
    "        df[col] = df[col].str.strip()\n",
    "        \n",
    "        # Convertir en majuscule ou minuscule selon le paramètre\n",
    "        if majuscule:\n",
    "            df[col] = df[col].str.upper()\n",
    "        else:\n",
    "            df[col] = df[col].str.lower()\n",
    "    \n",
    "    \n",
    "    df = df.replace('', np.nan)\n",
    "    df = df.replace('None', np.nan)\n",
    "    \n",
    "    return df"
   ]
  },
  {
   "cell_type": "code",
   "execution_count": 27,
   "metadata": {},
   "outputs": [],
   "source": [
    "df = nettoyer_colonnes(df)"
   ]
  },
  {
   "cell_type": "code",
   "execution_count": null,
   "metadata": {},
   "outputs": [],
   "source": []
  },
  {
   "cell_type": "code",
   "execution_count": 28,
   "metadata": {},
   "outputs": [
    {
     "data": {
      "text/plain": [
       "(26746, 19)"
      ]
     },
     "execution_count": 28,
     "metadata": {},
     "output_type": "execute_result"
    }
   ],
   "source": [
    "df.shape"
   ]
  },
  {
   "cell_type": "code",
   "execution_count": 29,
   "metadata": {},
   "outputs": [
    {
     "data": {
      "text/html": [
       "<div>\n",
       "<style scoped>\n",
       "    .dataframe tbody tr th:only-of-type {\n",
       "        vertical-align: middle;\n",
       "    }\n",
       "\n",
       "    .dataframe tbody tr th {\n",
       "        vertical-align: top;\n",
       "    }\n",
       "\n",
       "    .dataframe thead th {\n",
       "        text-align: right;\n",
       "    }\n",
       "</style>\n",
       "<table border=\"1\" class=\"dataframe\">\n",
       "  <thead>\n",
       "    <tr style=\"text-align: right;\">\n",
       "      <th></th>\n",
       "      <th>marque</th>\n",
       "      <th>modele</th>\n",
       "      <th>mouvement</th>\n",
       "      <th>matiere_boitier</th>\n",
       "      <th>matiere_bracelet</th>\n",
       "      <th>annee_prod</th>\n",
       "      <th>etat</th>\n",
       "      <th>sexe</th>\n",
       "      <th>prix</th>\n",
       "      <th>reserve_de_marche</th>\n",
       "      <th>diametre</th>\n",
       "      <th>etencheite</th>\n",
       "      <th>matiere_lunette</th>\n",
       "      <th>matiere_verre</th>\n",
       "      <th>boucle</th>\n",
       "      <th>matiere_boucle</th>\n",
       "      <th>rouage</th>\n",
       "      <th>ville</th>\n",
       "      <th>fonctions</th>\n",
       "    </tr>\n",
       "  </thead>\n",
       "  <tbody>\n",
       "    <tr>\n",
       "      <th>0</th>\n",
       "      <td>ROLEX</td>\n",
       "      <td>DATEJUST, 36</td>\n",
       "      <td>AUTOMATIQUE</td>\n",
       "      <td>ACIER</td>\n",
       "      <td>ACIER</td>\n",
       "      <td>2011</td>\n",
       "      <td>TRÈS, BON, TRACES, DUSURE, NULLES, OU, LÉGÈRES</td>\n",
       "      <td>HOMME/UNISEXE</td>\n",
       "      <td>8, 700, £, =, 10, 437, €, PRIX, NÉGOCIABLE</td>\n",
       "      <td>NaN</td>\n",
       "      <td>36, MM</td>\n",
       "      <td>NaN</td>\n",
       "      <td>ACIER</td>\n",
       "      <td>SAPHIR</td>\n",
       "      <td>PLIS</td>\n",
       "      <td>ACIER</td>\n",
       "      <td>NaN</td>\n",
       "      <td>GRANDE-BRETAGNE,, LONDON</td>\n",
       "      <td>FONCTIONS DATE</td>\n",
       "    </tr>\n",
       "    <tr>\n",
       "      <th>1</th>\n",
       "      <td>ZENO-WATCH, BASEL</td>\n",
       "      <td>X-LARGE, RETRO</td>\n",
       "      <td>AUTOMATIQUE</td>\n",
       "      <td>ACIER</td>\n",
       "      <td>MM</td>\n",
       "      <td>2023</td>\n",
       "      <td>TRÈS, BON, TRACES, DUSURE, NULLES, OU, LÉGÈRES</td>\n",
       "      <td>HOMME/UNISEXE</td>\n",
       "      <td>699, €</td>\n",
       "      <td>MARCHE, 42, H</td>\n",
       "      <td>44, X</td>\n",
       "      <td>3, ATM</td>\n",
       "      <td>ACIER</td>\n",
       "      <td>SAPHIR</td>\n",
       "      <td>BOUCLE, ARDILLON</td>\n",
       "      <td>ACIER</td>\n",
       "      <td>2824-2</td>\n",
       "      <td>ESPAGNE,, VALENCIA</td>\n",
       "      <td>FONCTIONS DATE</td>\n",
       "    </tr>\n",
       "    <tr>\n",
       "      <th>2</th>\n",
       "      <td>ROLEX</td>\n",
       "      <td>YACHT-MASTER, 40</td>\n",
       "      <td>AUTOMATIQUE</td>\n",
       "      <td>OR/ACIER</td>\n",
       "      <td>OR/ACIER</td>\n",
       "      <td>2022</td>\n",
       "      <td>TRÈS, BON, TRACES, DUSURE, NULLES, OU, LÉGÈRES</td>\n",
       "      <td>HOMME/UNISEXE</td>\n",
       "      <td>89, 900, ZŁ, =, 21, 215, €, PRIX, NÉGOCIABLE</td>\n",
       "      <td>MARCHE, 70, H</td>\n",
       "      <td>40, MM</td>\n",
       "      <td>10, ATM</td>\n",
       "      <td>ROSE</td>\n",
       "      <td>SAPHIR</td>\n",
       "      <td>PLIS</td>\n",
       "      <td>OR, ROSE</td>\n",
       "      <td>AUTOMATYCZNY</td>\n",
       "      <td>POLOGNE,, WARSZAWA</td>\n",
       "      <td>FONCTIONS DATE</td>\n",
       "    </tr>\n",
       "    <tr>\n",
       "      <th>3</th>\n",
       "      <td>ROLEX</td>\n",
       "      <td>DATEJUST, II</td>\n",
       "      <td>AUTOMATIQUE</td>\n",
       "      <td>ACIER</td>\n",
       "      <td>ACIER</td>\n",
       "      <td>2016</td>\n",
       "      <td>TRÈS, BON, TRACES, DUSURE, NULLES, OU, LÉGÈRES</td>\n",
       "      <td>HOMME/UNISEXE</td>\n",
       "      <td>8, 700, £, =, 10, 437, €</td>\n",
       "      <td>NaN</td>\n",
       "      <td>41, MM</td>\n",
       "      <td>NaN</td>\n",
       "      <td>NaN</td>\n",
       "      <td>SAPHIR</td>\n",
       "      <td>PLIS</td>\n",
       "      <td>ACIER</td>\n",
       "      <td>NaN</td>\n",
       "      <td>GRANDE-BRETAGNE,, BISHOPS, STORTFORD</td>\n",
       "      <td>FONCTIONS DATE</td>\n",
       "    </tr>\n",
       "    <tr>\n",
       "      <th>4</th>\n",
       "      <td>TUDOR</td>\n",
       "      <td>NaN</td>\n",
       "      <td>AUTOMATIQUE</td>\n",
       "      <td>NaN</td>\n",
       "      <td>ACIER</td>\n",
       "      <td>1975</td>\n",
       "      <td>TRÈS, BON, TRACES, DUSURE, NULLES, OU, LÉGÈRES</td>\n",
       "      <td>HOMME/UNISEXE</td>\n",
       "      <td>16, 500, €</td>\n",
       "      <td>NaN</td>\n",
       "      <td>40, MM</td>\n",
       "      <td>NaN</td>\n",
       "      <td>ACIER</td>\n",
       "      <td>NaN</td>\n",
       "      <td>NaN</td>\n",
       "      <td>ACIER</td>\n",
       "      <td>7750</td>\n",
       "      <td>BELGIQUE,, BRUXELLES</td>\n",
       "      <td>FONCTIONS CHRONOGRAPHE, DATE</td>\n",
       "    </tr>\n",
       "  </tbody>\n",
       "</table>\n",
       "</div>"
      ],
      "text/plain": [
       "              marque            modele    mouvement matiere_boitier  \\\n",
       "0              ROLEX      DATEJUST, 36  AUTOMATIQUE           ACIER   \n",
       "1  ZENO-WATCH, BASEL    X-LARGE, RETRO  AUTOMATIQUE           ACIER   \n",
       "2              ROLEX  YACHT-MASTER, 40  AUTOMATIQUE        OR/ACIER   \n",
       "3              ROLEX      DATEJUST, II  AUTOMATIQUE           ACIER   \n",
       "4              TUDOR               NaN  AUTOMATIQUE             NaN   \n",
       "\n",
       "  matiere_bracelet annee_prod                                            etat  \\\n",
       "0            ACIER       2011  TRÈS, BON, TRACES, DUSURE, NULLES, OU, LÉGÈRES   \n",
       "1               MM       2023  TRÈS, BON, TRACES, DUSURE, NULLES, OU, LÉGÈRES   \n",
       "2         OR/ACIER       2022  TRÈS, BON, TRACES, DUSURE, NULLES, OU, LÉGÈRES   \n",
       "3            ACIER       2016  TRÈS, BON, TRACES, DUSURE, NULLES, OU, LÉGÈRES   \n",
       "4            ACIER       1975  TRÈS, BON, TRACES, DUSURE, NULLES, OU, LÉGÈRES   \n",
       "\n",
       "            sexe                                          prix  \\\n",
       "0  HOMME/UNISEXE    8, 700, £, =, 10, 437, €, PRIX, NÉGOCIABLE   \n",
       "1  HOMME/UNISEXE                                        699, €   \n",
       "2  HOMME/UNISEXE  89, 900, ZŁ, =, 21, 215, €, PRIX, NÉGOCIABLE   \n",
       "3  HOMME/UNISEXE                      8, 700, £, =, 10, 437, €   \n",
       "4  HOMME/UNISEXE                                    16, 500, €   \n",
       "\n",
       "  reserve_de_marche diametre etencheite matiere_lunette matiere_verre  \\\n",
       "0               NaN   36, MM        NaN           ACIER        SAPHIR   \n",
       "1     MARCHE, 42, H    44, X     3, ATM           ACIER        SAPHIR   \n",
       "2     MARCHE, 70, H   40, MM    10, ATM            ROSE        SAPHIR   \n",
       "3               NaN   41, MM        NaN             NaN        SAPHIR   \n",
       "4               NaN   40, MM        NaN           ACIER           NaN   \n",
       "\n",
       "             boucle matiere_boucle        rouage  \\\n",
       "0              PLIS          ACIER           NaN   \n",
       "1  BOUCLE, ARDILLON          ACIER        2824-2   \n",
       "2              PLIS       OR, ROSE  AUTOMATYCZNY   \n",
       "3              PLIS          ACIER           NaN   \n",
       "4               NaN          ACIER          7750   \n",
       "\n",
       "                                  ville                     fonctions  \n",
       "0              GRANDE-BRETAGNE,, LONDON                FONCTIONS DATE  \n",
       "1                    ESPAGNE,, VALENCIA                FONCTIONS DATE  \n",
       "2                    POLOGNE,, WARSZAWA                FONCTIONS DATE  \n",
       "3  GRANDE-BRETAGNE,, BISHOPS, STORTFORD                FONCTIONS DATE  \n",
       "4                  BELGIQUE,, BRUXELLES  FONCTIONS CHRONOGRAPHE, DATE  "
      ]
     },
     "execution_count": 29,
     "metadata": {},
     "output_type": "execute_result"
    }
   ],
   "source": [
    "df.head()"
   ]
  },
  {
   "cell_type": "markdown",
   "metadata": {},
   "source": [
    "# Etude et traitement des valeurs manquantes :"
   ]
  },
  {
   "cell_type": "code",
   "execution_count": 30,
   "metadata": {},
   "outputs": [],
   "source": [
    "# Suppression des lignes avec une faible proportion de données manquantes\n",
    "df = df.dropna(subset=['marque','modele'])"
   ]
  },
  {
   "cell_type": "code",
   "execution_count": 31,
   "metadata": {},
   "outputs": [
    {
     "name": "stdout",
     "output_type": "stream",
     "text": [
      "marque                0.00\n",
      "modele                0.00\n",
      "mouvement             5.78\n",
      "matiere_boitier       3.00\n",
      "matiere_bracelet      3.61\n",
      "annee_prod            0.00\n",
      "etat                  0.13\n",
      "sexe                  3.35\n",
      "prix                  0.38\n",
      "reserve_de_marche    34.89\n",
      "diametre              3.20\n",
      "etencheite           19.57\n",
      "matiere_lunette      17.77\n",
      "matiere_verre        17.65\n",
      "boucle               13.46\n",
      "matiere_boucle       10.96\n",
      "rouage               23.71\n",
      "ville                 0.39\n",
      "fonctions            27.47\n",
      "dtype: float64\n"
     ]
    },
    {
     "data": {
      "image/png": "[encoded data removed]",
      "text/plain": [
       "<Figure size 640x480 with 1 Axes>"
      ]
     },
     "metadata": {},
     "output_type": "display_data"
    }
   ],
   "source": [
    "# Heatmap des valeurs manquantes\n",
    "sns.heatmap(df.isnull(), cbar=False)\n",
    "\n",
    "print(round(df.isnull().sum()/len(df)*100,2))\n"
   ]
  },
  {
   "cell_type": "code",
   "execution_count": 32,
   "metadata": {},
   "outputs": [],
   "source": [
    "def remplissage(df, variable):\n",
    "    # Grouper par 'marque', 'modele', 'mouvement' pour trouver les valeurs similaires\n",
    "    groupes_similaires = df.groupby(['marque', 'modele', 'mouvement'])[variable]\n",
    "\n",
    "    # Remplir les valeurs manquantes avec la première valeur non manquante des groupes similaires\n",
    "    df[variable] = df[variable].fillna(groupes_similaires.transform('first'))\n",
    "\n",
    "    return df"
   ]
  },
  {
   "cell_type": "code",
   "execution_count": 33,
   "metadata": {},
   "outputs": [],
   "source": [
    "def remplissage_mouvement(df, variable):\n",
    "    # Remplacer les listes vides par des NaN (si applicable, sinon cette étape peut être ignorée)\n",
    "    df[variable] = df[variable].apply(lambda x: np.nan if isinstance(x, list) and not x else x)\n",
    "\n",
    "    # Grouper par 'marque' et 'modele' pour trouver les valeurs similaires\n",
    "    groupes_similaires = df.groupby(['marque', 'modele'])[variable]\n",
    "\n",
    "    # Remplir les valeurs manquantes avec la première valeur non manquante des groupes similaires\n",
    "    df[variable] = df[variable].fillna(groupes_similaires.transform('first'))\n",
    "\n",
    "    return df"
   ]
  },
  {
   "cell_type": "code",
   "execution_count": 34,
   "metadata": {},
   "outputs": [],
   "source": [
    "def remplissage_reserve_marche(df, variable):\n",
    "    # Remplir 'Pas_de_reserve' pour les lignes où 'rouage' commence par 'Quar' ou 'ETA' et où 'variable' est NaN ou vide\n",
    "    masque_quartz_eta = (\n",
    "        (df[variable].isna() | (df[variable] == '')) &  # Si 'variable' est manquant ou vide\n",
    "        df['rouage'].apply(lambda x: isinstance(x, str) and (x.startswith('Quar') or x.startswith('ETA')))  # Vérifier 'rouage'\n",
    "    )\n",
    "    df.loc[masque_quartz_eta, variable] = 'Pas_de_reserve'\n",
    "\n",
    "    # Remplir 'Pas_de_reserve' pour les lignes où 'mouvement' est 'Quartz' et où 'variable' est NaN\n",
    "    masque_quartz_mouvement = (df[variable].isna() | (df[variable] == '')) & (df['mouvement'] == 'Quartz')\n",
    "    df.loc[masque_quartz_mouvement, variable] = 'Pas_de_reserve'\n",
    "\n",
    "    return df"
   ]
  },
  {
   "cell_type": "code",
   "execution_count": 35,
   "metadata": {},
   "outputs": [],
   "source": [
    "def suppression_colonnes(df):\n",
    "    \"\"\"Fonctions pour supprimer les colonnes inutiles\"\n",
    "    Args:\n",
    "        df (pd.DataFarme): DataFrame contenant les colonnes à traiter. \n",
    "        liste_colonnes (list): Liste des colonnes à traiter.\n",
    "    \n",
    "    Returns: \n",
    "        pd.DataFrame : DataFrame modifié.  \n",
    "    \"\"\"\n",
    "    colonnes_a_supp = ['rouage', 'fonctions']\n",
    "    df = df.drop(columns=colonnes_a_supp)\n",
    "    \n",
    "    return df"
   ]
  },
  {
   "cell_type": "code",
   "execution_count": 36,
   "metadata": {},
   "outputs": [],
   "source": [
    "def count_functions(fonction_series):\n",
    "    # Remplacer les valeurs manquantes par 0\n",
    "    fonction_series = fonction_series.fillna('')\n",
    "\n",
    "    # Si 'Fonctions\\n' est présent, extraire la partie après\n",
    "    fonctions_mask = fonction_series.str.contains('FONCTIONS ')\n",
    "    autres_mask = fonction_series.str.contains('AUTRES ')\n",
    "\n",
    "    # Extraction et comptage pour 'Fonctions\\n'\n",
    "    fonction_counts = fonction_series[fonctions_mask].str.split('FONCTIONS ').str[1].str.split(',').apply(lambda x: len([func.strip() for func in x if func.strip()]))\n",
    "\n",
    "    # Extraction et comptage pour 'Autres\\n'\n",
    "    autres_counts = fonction_series[autres_mask].str.split('AUTRES ').str[1].str.split(',').apply(lambda x: len([func.strip() for func in x if func.strip()]))\n",
    "\n",
    "    # Remplir les résultats dans une nouvelle colonne\n",
    "    result = pd.Series('Non_renseignée', index=fonction_series.index)\n",
    "\n",
    "    # Ajouter les comptages de fonctions\n",
    "    result.loc[fonctions_mask] = fonction_counts\n",
    "    result.loc[autres_mask] = autres_counts\n",
    "\n",
    "    # Remplacer les valeurs restantes par 0 si pas renseigné\n",
    "    result = result.replace('', 0)\n",
    "\n",
    "    return result"
   ]
  },
  {
   "cell_type": "code",
   "execution_count": 37,
   "metadata": {},
   "outputs": [],
   "source": [
    "df = remplissage(df,'matiere_boitier')\n",
    "df = remplissage(df,'matiere_bracelet')\n",
    "df = remplissage(df,'sexe')\n",
    "df = remplissage(df, 'diametre')\n",
    "df = remplissage(df,'etencheite')\n",
    "df = remplissage(df, 'matiere_lunette')\n",
    "df = remplissage(df, 'matiere_verre')\n",
    "df = remplissage(df,'boucle')\n",
    "df = remplissage(df,'matiere_boucle')\n",
    "df = remplissage(df,'rouage')\n",
    "df = remplissage(df, 'reserve_de_marche')\n",
    "df = remplissage_mouvement(df, 'mouvement')\n",
    "df = remplissage_reserve_marche(df, 'reserve_de_marche')\n",
    "df['nbre_complications'] = count_functions(df['fonctions'])\n",
    "df = suppression_colonnes(df)"
   ]
  },
  {
   "cell_type": "markdown",
   "metadata": {},
   "source": [
    "# Traitement de la variable *Marque* : "
   ]
  },
  {
   "cell_type": "code",
   "execution_count": 38,
   "metadata": {},
   "outputs": [],
   "source": [
    "marque = [i.replace(', ', '-').replace('.','') for i in df['marque']]\n",
    "df['marque'] = marque"
   ]
  },
  {
   "cell_type": "markdown",
   "metadata": {},
   "source": [
    "# Traitement de la variable *Modele* : "
   ]
  },
  {
   "cell_type": "code",
   "execution_count": 39,
   "metadata": {},
   "outputs": [],
   "source": [
    "modele = [i.replace(',','').replace(' ','-') for i in df['modele']]\n",
    "df['modele'] = modele"
   ]
  },
  {
   "cell_type": "markdown",
   "metadata": {},
   "source": [
    "# Traitement de la variable *Mouvement* : "
   ]
  },
  {
   "cell_type": "code",
   "execution_count": 40,
   "metadata": {},
   "outputs": [],
   "source": [
    "mapping = {\"FOND, TRANSPARENT,, INDICATION, DE, LA, RÉSERVE, DE, MARCHE,, ÉTAT, DORIGINE/PIÈCES, ORIGINALES,, COUCHE, PVD/DLC\" : \"AUTOMATIQUE\",\n",
    "           \n",
    "    \"28000, A/H\": \"AUTOMATIQUE\",\n",
    "           \"REMONTAGE, AUTOMATIQUE\": \"AUTOMATIQUE\",\n",
    "           \"REMONTAGE, MANUEL\" : \"AUTOMATIQUE\",\n",
    "           \"21600, A/H\" : \"AUTOMATIQUE\",\n",
    "           \"REMONTAGE AUTOMATIQUE\" : \"AUTOMATIQUE\",\n",
    "           \"MONTRE, CONNECTÉE\" : \"BATTERIE\",\n",
    "           \"SQUELETTE\" : \"AUTOMATIQUE\"\n",
    "           } \n",
    "           \n",
    "           \n",
    "df['mouvement'] = df['mouvement'].replace(mapping)"
   ]
  },
  {
   "cell_type": "code",
   "execution_count": 42,
   "metadata": {},
   "outputs": [],
   "source": [
    "df = df.replace('None', np.nan)"
   ]
  },
  {
   "cell_type": "markdown",
   "metadata": {},
   "source": [
    "# Traitement de la variable *Matiere_bracelet*"
   ]
  },
  {
   "cell_type": "code",
   "execution_count": 44,
   "metadata": {},
   "outputs": [],
   "source": [
    "# Liste des matières identifiées\n",
    "matières = [\"acier\", \"or/acier\", \"cuir\", \"textile\", \"titane\", \"caoutchouc\", \"bronze\",\n",
    "            \"silicone\", \"vache\", \"autruche\", \"bronze\",\"plastique\", \"platine\", \"céramique\",\"or\",\n",
    "            \"aluminium\", \"argentt\", \"requin\", \"caoutchouc\", \"plastique\", \"silicone\", \n",
    "            \"céramique\", \"satin\"]\n",
    "\n",
    "def extraire_matière(chaine):\n",
    "    if isinstance(chaine, str):  # Vérifier si la chaîne est une chaîne de caractères\n",
    "        for matiere in matières:\n",
    "            if matiere.lower() in chaine.lower():\n",
    "                return matiere.upper()\n",
    "    return 'INCONNUE'"
   ]
  },
  {
   "cell_type": "code",
   "execution_count": 45,
   "metadata": {},
   "outputs": [],
   "source": [
    "matiere_bracelet = [extraire_matière(chaine) for chaine in df['matiere_bracelet']]\n",
    "df['matiere_bracelet'] = matiere_bracelet"
   ]
  },
  {
   "cell_type": "markdown",
   "metadata": {},
   "source": [
    "# Traitement de la variable *Matiere_boitier* "
   ]
  },
  {
   "cell_type": "code",
   "execution_count": 47,
   "metadata": {},
   "outputs": [],
   "source": [
    "def nettoyer_matiere_boitier(chaine):\n",
    "    if isinstance(chaine, str):  # Vérifier si la variable est une chaîne\n",
    "        # Remplacer les barres obliques par des virgules avec espaces\n",
    "        chaine = chaine.replace(\"/\", \", \")\n",
    "        # Nettoyer les virgules en trop\n",
    "        chaine = re.sub(r'\\s*,\\s*', ', ', chaine)\n",
    "        # Supprimer les espaces au début et à la fin\n",
    "        chaine = chaine.strip()\n",
    "        # Remplacer les virgules et espaces par des underscores\n",
    "        chaine = chaine.replace(', ', '_')\n",
    "        return chaine\n",
    "    else:\n",
    "        return 'INCONNUE'  # Retourner 'INCONNUE' si ce n'est pas une chaîne"
   ]
  },
  {
   "cell_type": "code",
   "execution_count": 48,
   "metadata": {},
   "outputs": [],
   "source": [
    "df['matiere_boitier'] = [nettoyer_matiere_boitier(chaine) for chaine in df['matiere_boitier']]"
   ]
  },
  {
   "cell_type": "markdown",
   "metadata": {},
   "source": [
    "# Traitement de la variable annee_prod "
   ]
  },
  {
   "cell_type": "code",
   "execution_count": 50,
   "metadata": {},
   "outputs": [],
   "source": [
    "# Fonction pour extraire les années (format AAAA)\n",
    "def extract_year(valeur):\n",
    "    # Utiliser une regex pour chercher un nombre à 4 chiffres (une année)\n",
    "    match = re.search(r'\\b(19|20)\\d{2}\\b', str(valeur))\n",
    "    if match:\n",
    "        return match.group(0)  # Si une année est trouvée, la retourner\n",
    "    else:\n",
    "        return None  # Si aucune année n'est trouvée\n",
    "\n",
    "# Appliquer la fonction à la liste de données\n",
    "annee_prod = [extract_year(valeur) for valeur in df['annee_prod']]\n",
    "df['annee_prod'] = annee_prod"
   ]
  },
  {
   "cell_type": "markdown",
   "metadata": {},
   "source": [
    "# Traitement de la variable Etat"
   ]
  },
  {
   "cell_type": "code",
   "execution_count": 53,
   "metadata": {},
   "outputs": [],
   "source": [
    "# Dictionnaire de correspondance entre les états et des catégories restreintes\n",
    "catégories_état = {\n",
    "    \"neuf\": \"Neuf\",\n",
    "    \"jamais porté\": \"Neuf\",\n",
    "    \"usure nulle\": \"Neuf\",\n",
    "    \"aucune trace d'usure\": \"Neuf\",\n",
    "    \"bon\": \"Bon\",\n",
    "    \"légères traces d'usure\": \"Bon\",\n",
    "    \"traces d'usure visibles\": \"Satisfaisant\",\n",
    "    \"modéré\": \"Satisfaisant\",\n",
    "    \"satisfaisant\": \"Satisfaisant\",\n",
    "    \"fortement usagé\": \"Usé\",\n",
    "    \"traces d'usure importantes\": \"Usé\",\n",
    "    \"défectueux\": \"Défectueux\",\n",
    "    \"incomplet\": \"Défectueux\",\n",
    "    \"pas fonctionnelle\": \"Défectueux\"\n",
    "}\n",
    "\n",
    "# Fonction pour regrouper l'état d'une chaîne dans une catégorie restreinte\n",
    "def regrouper_état(chaine):\n",
    "    if isinstance(chaine, str):  # Vérifier si la chaîne est bien une chaîne de caractères\n",
    "        chaine = chaine.lower()  # Convertir la chaîne en minuscule\n",
    "        états_trouvés = []\n",
    "        \n",
    "        # Chercher les mots-clés de l'état dans la chaîne\n",
    "        for mot_clé, catégorie in catégories_état.items():\n",
    "            if mot_clé in chaine:\n",
    "                états_trouvés.append(catégorie)  # Ajouter la catégorie correspondante\n",
    "        \n",
    "        if états_trouvés:\n",
    "            # Retourner la catégorie la plus représentative (par exemple, la plus courante)\n",
    "            return max(set(états_trouvés), key=états_trouvés.count)\n",
    "        else:\n",
    "            return 'État non spécifié'\n",
    "    else:\n",
    "        return 'État non spécifié'  # Retourner \"État non spécifié\" si ce n'est pas une chaîne de caractères\n",
    "\n",
    "\n",
    "# Appliquer la fonction pour regrouper les caractéristiques de l'état\n",
    "df['etat'] = [regrouper_état(chaine) for chaine in df['etat']]"
   ]
  },
  {
   "cell_type": "markdown",
   "metadata": {},
   "source": [
    "# Traitement de la variable sexe "
   ]
  },
  {
   "cell_type": "code",
   "execution_count": 59,
   "metadata": {},
   "outputs": [],
   "source": [
    "mapping = {\"HOMME/UNISEXE\":\"HOMME\",\n",
    "           \"MONTRE HOMME/UNISEXE\":\"HOMME\",\n",
    "           \"MONTRE, FEMME\":\"FEMME\",\n",
    "           \"MONTRE, HOMME/UNISEXE\":\"HOMME\"  \n",
    "}\n",
    "\n",
    "df['sexe'] = df['sexe'].replace(mapping)"
   ]
  },
  {
   "cell_type": "markdown",
   "metadata": {},
   "source": [
    "# Traitement de la variable prix :"
   ]
  },
  {
   "cell_type": "code",
   "execution_count": 61,
   "metadata": {},
   "outputs": [],
   "source": [
    "def extraire_elements_avant_euro(chaine):\n",
    "    if isinstance(chaine, str):  # Vérifier si la chaîne est bien de type string\n",
    "        # Nettoyer la chaîne en la divisant en mots\n",
    "        elements = re.split(r'[,\\s]+', chaine.strip())  # Séparer par virgules et espaces\n",
    "\n",
    "        # Initialiser une liste vide pour les résultats\n",
    "        sous_liste = []\n",
    "        \n",
    "        # Rechercher la position de '€' dans la liste\n",
    "        if '€' in elements:\n",
    "            index_fin = elements.index('€')  # Trouver l'index du symbole €\n",
    "            \n",
    "            # Extraire les deux éléments précédant '€' s'ils existent\n",
    "            if index_fin >= 2:\n",
    "                sous_liste = elements[index_fin-2:index_fin]  # Extraire les 2 éléments avant '€'\n",
    "            else:\n",
    "                sous_liste = elements[:index_fin]  # Si moins de 2 éléments avant, extraire jusqu'à '€'\n",
    "        \n",
    "        return sous_liste\n",
    "    else:\n",
    "        return []  # Retourner une liste vide si l'entrée n'est pas une chaîne"
   ]
  },
  {
   "cell_type": "code",
   "execution_count": 62,
   "metadata": {},
   "outputs": [],
   "source": [
    "def nettoyer_valeurs(valeurs):\n",
    "    valeurs_nettoyees = []\n",
    "    \n",
    "    for val in valeurs:\n",
    "        # Joindre les éléments de la liste (qui sont les parties du nombre)\n",
    "        nombre_str = ''.join(val)\n",
    "        \n",
    "        # Vérifier que la chaîne n'est pas vide avant de procéder\n",
    "        if nombre_str.strip():  # Vérifier que ce n'est pas une chaîne vide\n",
    "            try:\n",
    "                # Convertir en entier\n",
    "                nombre = int(nombre_str)\n",
    "            except ValueError:\n",
    "                # Si la conversion en entier échoue, tenter avec float\n",
    "                try:\n",
    "                    nombre = float(nombre_str)\n",
    "                except ValueError:\n",
    "                    # Si la conversion échoue encore, ajouter None (ou gérer comme vous voulez)\n",
    "                    nombre = None\n",
    "        else:\n",
    "            # Si la chaîne est vide, ajouter None (ou une valeur par défaut)\n",
    "            nombre = None\n",
    "        \n",
    "        valeurs_nettoyees.append(nombre)\n",
    "    \n",
    "    return valeurs_nettoyees"
   ]
  },
  {
   "cell_type": "code",
   "execution_count": 63,
   "metadata": {},
   "outputs": [],
   "source": [
    "prix = [extraire_elements_avant_euro(chaine) for chaine in df['prix']]\n",
    "prix = nettoyer_valeurs(prix)\n",
    "df['prix'] = prix"
   ]
  },
  {
   "cell_type": "markdown",
   "metadata": {},
   "source": [
    "# Traitement de la variable réserve de marche "
   ]
  },
  {
   "cell_type": "code",
   "execution_count": 64,
   "metadata": {},
   "outputs": [],
   "source": [
    "def extraire_chiffre(chaine):\n",
    "    if pd.isna(chaine):  # Vérifier si la chaîne est None ou NaN\n",
    "        return None\n",
    "    # Rechercher tous les nombres dans la chaîne\n",
    "    match = re.search(r'\\d+', chaine)\n",
    "    if match:\n",
    "        return int(match.group())  # Retourner le premier nombre trouvé sous forme d'entier\n",
    "    return None \n",
    "\n",
    "reserve_de_marche = [extraire_chiffre(chaine) for chaine in df['reserve_de_marche']]\n",
    "df['reserve_de_marche'] = reserve_de_marche"
   ]
  },
  {
   "cell_type": "markdown",
   "metadata": {},
   "source": [
    "# Traitement de la variable diametre "
   ]
  },
  {
   "cell_type": "code",
   "execution_count": 67,
   "metadata": {},
   "outputs": [],
   "source": [
    "diametre = [extraire_chiffre(chaine) for chaine in df['diametre']]\n",
    "df['diametre'] = diametre"
   ]
  },
  {
   "cell_type": "markdown",
   "metadata": {},
   "source": [
    "# Traitement de la varaible etencheite "
   ]
  },
  {
   "cell_type": "code",
   "execution_count": 70,
   "metadata": {},
   "outputs": [],
   "source": [
    "etencheite = [extraire_chiffre(chaine) for chaine in df['etencheite']]\n",
    "df['etencheite'] = etencheite"
   ]
  },
  {
   "cell_type": "markdown",
   "metadata": {},
   "source": [
    "# Traitement de la variable matiere_lunette"
   ]
  },
  {
   "cell_type": "code",
   "execution_count": 72,
   "metadata": {},
   "outputs": [],
   "source": [
    "# Liste des matières à rechercher\n",
    "matières = ['ACIER', 'ROSE', 'JAUNE', 'CÉRAMIQUE', 'TITANE', 'BRONZE',\n",
    "            'ALUMINIUM', 'BLANC', 'PLATINE', 'OR/ACIER', 'ARGENT', 'PLASTIQUE',\n",
    "            'TUNGSTÈNE', 'ROUGE', 'CARBONE', 'OR', 'OR, BLANC', 'OR, ROSE', 'OR, JAUNE', 'PLAQUÉE, OR', \n",
    "            'CÉRAMIQUE, FONCÉE', 'LUNETTE, LISSE', 'OR, ROUGE']\n",
    "\n",
    "\n",
    "def extraire_matière(chaine):\n",
    "    if pd.isna(chaine):  # Vérifier si la chaîne est None ou NaN\n",
    "        return None\n",
    "    \n",
    "    # Mettre la chaîne en majuscules pour faciliter la recherche\n",
    "    chaine = chaine.upper()\n",
    "    \n",
    "    # Rechercher chaque matière dans la chaîne\n",
    "    for matiere in matières:\n",
    "        if matiere in chaine:\n",
    "            return matiere  # Retourner la première matière trouvée\n",
    "    \n",
    "    return None \n",
    "\n",
    "matiere_lunette = [extraire_matière(chaine) for chaine in df['matiere_lunette']]"
   ]
  },
  {
   "cell_type": "code",
   "execution_count": 73,
   "metadata": {},
   "outputs": [],
   "source": [
    "df['matiere_lunette'] = matiere_lunette"
   ]
  },
  {
   "cell_type": "code",
   "execution_count": 74,
   "metadata": {},
   "outputs": [
    {
     "data": {
      "text/plain": [
       "array(['ACIER', 'ROSE', 'JAUNE', 'CÉRAMIQUE', 'TITANE', 'BRONZE',\n",
       "       'ALUMINIUM', None, 'BLANC', 'PLATINE', 'ARGENT', 'PLASTIQUE',\n",
       "       'TUNGSTÈNE', 'ROUGE', 'CARBONE', 'OR', 'LUNETTE, LISSE'],\n",
       "      dtype=object)"
      ]
     },
     "execution_count": 74,
     "metadata": {},
     "output_type": "execute_result"
    }
   ],
   "source": [
    "df['matiere_lunette'].unique()"
   ]
  },
  {
   "cell_type": "markdown",
   "metadata": {},
   "source": [
    "# Traitement de la variable matiere_verre"
   ]
  },
  {
   "cell_type": "code",
   "execution_count": 78,
   "metadata": {},
   "outputs": [
    {
     "data": {
      "text/plain": [
       "array(['SAPHIR', 'MINÉRAL', nan, None, 'PLASTIQUE', 'PLEXIGLAS', 'VERRE'],\n",
       "      dtype=object)"
      ]
     },
     "execution_count": 78,
     "metadata": {},
     "output_type": "execute_result"
    }
   ],
   "source": [
    "df.matiere_verre.unique()"
   ]
  },
  {
   "cell_type": "code",
   "execution_count": 79,
   "metadata": {},
   "outputs": [],
   "source": [
    "mapping = {\n",
    "    'VERRE SAPHIR' : 'SAPHIR',\n",
    "    'VERRE, MINÉRAL' : 'MINÉRAL',\n",
    "    'MATIÈRE, PLASTIQUE':'PLASTIQUE',\n",
    "    'VERRE, SAPHIR':'SAPHIR'\n",
    "}\n",
    "\n",
    "df['matiere_verre'] = df['matiere_verre'].replace(mapping)"
   ]
  },
  {
   "cell_type": "markdown",
   "metadata": {},
   "source": [
    "# Traitement de la variable boucle "
   ]
  },
  {
   "cell_type": "code",
   "execution_count": 80,
   "metadata": {},
   "outputs": [],
   "source": [
    "df['boucle'] = df['boucle'].str.replace(', ','_')"
   ]
  },
  {
   "cell_type": "markdown",
   "metadata": {},
   "source": [
    "# Traitement de la variable matiere_boucle"
   ]
  },
  {
   "cell_type": "code",
   "execution_count": 83,
   "metadata": {},
   "outputs": [],
   "source": [
    "# Liste des matières à rechercher\n",
    "matieres = ['ACIER', 'OR, ROSE', 'OR, JAUNE', 'CÉRAMIQUE', 'TITANE', 'BRONZE',\n",
    "            'ALUMINIUM', 'OR, BLANC', 'PLATINE', 'OR/ACIER', 'ARGENT',\n",
    "            'MATIÈRE, PLASTIQUE', 'PLASTIQUE', None, 'TUNGSTÈNE', 'OR, ROUGE',\n",
    "            'CARBONE', 'PLAQUÉE, OR']\n",
    "\n",
    "matiere_boucle = [extraire_matière(chaine) for chaine in df['matiere_boucle']]\n",
    "df['matiere_boucle'] = matiere_boucle"
   ]
  },
  {
   "cell_type": "markdown",
   "metadata": {},
   "source": [
    "# Traitement de la variable ville "
   ]
  },
  {
   "cell_type": "code",
   "execution_count": 85,
   "metadata": {},
   "outputs": [],
   "source": [
    "pays = [i.split(',')[0].strip() if isinstance(i, str) else 'INCONNU' for i in df['ville']]\n",
    "df = df.drop(columns=['ville'])\n",
    "df['pays'] = pays"
   ]
  },
  {
   "cell_type": "code",
   "execution_count": 86,
   "metadata": {},
   "outputs": [],
   "source": [
    "mapping = {\n",
    "    'AFRIQUE': 'AFRIQUE_DU_SUD',\n",
    "    'RÉPUBLIQUE' : 'RÉPUBLIQUE_TCHEQUE',\n",
    "    'HONG' : 'HONG_KONG',\n",
    "    'VIÊT' : 'VIETNAM',\n",
    "    'PORTO' : 'PORTUGAL',\n",
    "    'E.A.U.' : 'EMIRAT_ARABE_UNIS',\n",
    "    'SRI': 'SRI_LANKA',\n",
    "    'ARABIE' : 'ARABIE_SAOUDITE' \n",
    "}\n",
    "\n",
    "df['pays'] = df['pays'].replace(mapping)"
   ]
  },
  {
   "cell_type": "markdown",
   "metadata": {},
   "source": [
    "# Sauvegarde la BDD nettoyée :"
   ]
  },
  {
   "cell_type": "code",
   "execution_count": 238,
   "metadata": {},
   "outputs": [],
   "source": [
    "df.to_csv('/Users/f.b/Desktop/Data_Science/Clock_industry/Scripts/Data/data_clean.csv')"
   ]
  }
 ],
 "metadata": {
  "kernelspec": {
   "display_name": "base",
   "language": "python",
   "name": "python3"
  },
  "language_info": {
   "codemirror_mode": {
    "name": "ipython",
    "version": 3
   },
   "file_extension": ".py",
   "mimetype": "text/x-python",
   "name": "python",
   "nbconvert_exporter": "python",
   "pygments_lexer": "ipython3",
   "version": "3.11.7"
  }
 },
 "nbformat": 4,
 "nbformat_minor": 2
}
