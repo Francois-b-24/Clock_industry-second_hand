{
 "cells": [
  {
   "cell_type": "code",
   "execution_count": 1,
   "metadata": {},
   "outputs": [
    {
     "name": "stderr",
     "output_type": "stream",
     "text": [
      "/opt/anaconda3/lib/python3.11/site-packages/fuzzywuzzy/fuzz.py:11: UserWarning: Using slow pure-python SequenceMatcher. Install python-Levenshtein to remove this warning\n",
      "  warnings.warn('Using slow pure-python SequenceMatcher. Install python-Levenshtein to remove this warning')\n"
     ]
    }
   ],
   "source": [
    "import module_cleaning as cl\n",
    "import pandas as pd"
   ]
  },
  {
   "cell_type": "markdown",
   "metadata": {},
   "source": [
    "# Importation de la BDD"
   ]
  },
  {
   "cell_type": "code",
   "execution_count": 2,
   "metadata": {},
   "outputs": [],
   "source": [
    "df = pd.read_csv('/Users/f.b/Desktop/Data_Science/Clock_industry/Scripts/Data/watches_database.csv')\n",
    "liste_colonnes= ['marque','modele','mouvement']\n",
    "df = cl.suppression(df,liste_colonnes)\n",
    "df = df.iloc[:, 1:]"
   ]
  },
  {
   "cell_type": "markdown",
   "metadata": {},
   "source": [
    "# Traitement des valeurs manquantes et mise en forme de la BDD"
   ]
  },
  {
   "cell_type": "code",
   "execution_count": 3,
   "metadata": {},
   "outputs": [],
   "source": [
    "colonnes = ['matiere_boitier','matiere_bracelet','sexe','diametre',\n",
    "            'etencheite','matiere_lunette','matiere_verre','boucle',\n",
    "            'matiere_boucle','rouage','reserve_de_marche']\n",
    "\n",
    "for col in colonnes:\n",
    "    df = cl.remplissage(df, col)"
   ]
  },
  {
   "cell_type": "code",
   "execution_count": 4,
   "metadata": {},
   "outputs": [],
   "source": [
    "df = cl.remplissage_mouvement(df, 'mouvement')\n",
    "df = cl.remplissage_mat_verre (df, 'matiere_verre')\n",
    "df = cl.remplissage_mouvement_bis(df, 'mouvement')\n",
    "df = cl.remplissage_mat_verre(df, 'matiere_verre')\n",
    "df = cl.remplissage_reserve_marche(df, 'reserve_de_marche')\n",
    "df = cl.remplissage_reserve_marche_bis(df, 'reserve_de_marche')\n",
    "df['Complications'] = df['fonctions'].apply(cl.count_functions)"
   ]
  },
  {
   "cell_type": "code",
   "execution_count": 5,
   "metadata": {},
   "outputs": [],
   "source": [
    "colonnes_a_supp = ['rouage', 'fonctions','id']\n",
    "\n",
    "liste_colonnes = ['etencheite','matiere_bracelet', 'etat', 'sexe', 'diametre', 'matiere_lunette',\n",
    "                       'matiere_verre', 'boucle','reserve_de_marche' ]\n",
    "\n",
    "\n",
    "colonne = 'matiere_boitier'\n",
    "\n",
    "df = cl.suppression_lignes_vides_suite(df, liste_colonnes, colonnes_a_supp, colonne)"
   ]
  },
  {
   "cell_type": "markdown",
   "metadata": {},
   "source": [
    "# Recodage et mise en forme des variables "
   ]
  },
  {
   "cell_type": "code",
   "execution_count": 6,
   "metadata": {},
   "outputs": [
    {
     "name": "stderr",
     "output_type": "stream",
     "text": [
      "/Users/f.b/Desktop/Data_Science/Clock_industry/scripts/cleaning_analysis/module_cleaning.py:551: SettingWithCopyWarning: \n",
      "A value is trying to be set on a copy of a slice from a DataFrame.\n",
      "Try using .loc[row_indexer,col_indexer] = value instead\n",
      "\n",
      "See the caveats in the documentation: https://pandas.pydata.org/pandas-docs/stable/user_guide/indexing.html#returning-a-view-versus-a-copy\n",
      "  df[colonne] = df[colonne].astype('float')\n"
     ]
    }
   ],
   "source": [
    "df = cl.traitement_marque(df,'marque')\n",
    "df = cl.traitement_modele(df,'modele')\n",
    "df = cl.traitement_mouvement(df, 'mouvement')\n",
    "df = cl.traitement_matiere_bracelet(df,'matiere_bracelet')\n",
    "df = cl.traitement_matiere_boitier(df,'matiere_boitier')\n",
    "df = cl.traitement_annee_prod(df,'annee_prod')\n",
    "df = cl.traitement_etat(df, 'etat')\n",
    "df['prix'] = df['prix'].apply(cl.extraire_elements_avant_euro)\n",
    "df = cl.traitement_prix(df, 'prix')\n",
    "df['reserve_de_marche'] = df['reserve_de_marche'].apply(cl.extraire_elements_h)\n",
    "df = cl.traitement_diametre(df, 'diametre')\n",
    "df = cl.traitement_etencheite(df, 'etencheite')\n",
    "df = cl.traitement_matiere_lunette(df, 'matiere_lunette')\n",
    "df = cl.traitement_matiere_verre(df,'matiere_verre')\n",
    "df = cl.traitement_matiere_boucle(df, 'matiere_boucle')\n",
    "df = cl.traitement_boucle(df, 'boucle')\n",
    "df = cl.traitement_ville(df, 'ville')\n",
    "df = cl.traitement_complication_date(df,'Complications', 'Date_recup')\n",
    "df = cl.traitement_sexe(df,'sexe')"
   ]
  },
  {
   "cell_type": "code",
   "execution_count": 7,
   "metadata": {},
   "outputs": [],
   "source": [
    "df.to_csv('/Users/f.b/Desktop/Data_Science/Clock_industry/Scripts/Data/verif.csv')"
   ]
  },
  {
   "cell_type": "markdown",
   "metadata": {},
   "source": []
  }
 ],
 "metadata": {
  "kernelspec": {
   "display_name": "base",
   "language": "python",
   "name": "python3"
  },
  "language_info": {
   "codemirror_mode": {
    "name": "ipython",
    "version": 3
   },
   "file_extension": ".py",
   "mimetype": "text/x-python",
   "name": "python",
   "nbconvert_exporter": "python",
   "pygments_lexer": "ipython3",
   "version": "3.11.7"
  }
 },
 "nbformat": 4,
 "nbformat_minor": 2
}
