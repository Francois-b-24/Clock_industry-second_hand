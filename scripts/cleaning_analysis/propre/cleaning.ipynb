{
 "cells": [
  {
   "cell_type": "markdown",
   "metadata": {},
   "source": [
    "# Importations et Nettoyage de la base de données : "
   ]
  },
  {
   "cell_type": "code",
   "execution_count": 4,
   "metadata": {},
   "outputs": [],
   "source": [
    "import pandas as pd\n",
    "from nettoyage import Nettoyage\n",
    "import sqlite3"
   ]
  },
  {
   "cell_type": "code",
   "execution_count": 5,
   "metadata": {},
   "outputs": [],
   "source": [
    "path_load = '/Users/f.b/Desktop/Data_Science/Clock_industry/Scripts/Data/montre.db'\n",
    "path_save = '/Users/f.b/Desktop/Data_Science/Clock_industry/Scripts/Data/watches_database.csv'"
   ]
  },
  {
   "cell_type": "code",
   "execution_count": 6,
   "metadata": {},
   "outputs": [],
   "source": [
    "def chargement_base(path_load, path_save):\n",
    "   \n",
    "        connexion = sqlite3.connect(path_load)\n",
    "\n",
    "        # Exécution d'une requête SQL pour récupérer des données et conversion en DataFrame\n",
    "        df = pd.read_sql_query('SELECT * FROM montre', connexion)\n",
    "\n",
    "        # Fermeture de la connexion\n",
    "        connexion.close()\n",
    "\n",
    "        # Conversion de la base en format CSV \n",
    "        \n",
    "        df.to_csv(path_save)\n",
    "\n",
    "        # Chargement de la BDD sans la colonne id: \n",
    "        df = df.iloc[:, 1:]\n",
    "        return df "
   ]
  },
  {
   "cell_type": "code",
   "execution_count": 7,
   "metadata": {},
   "outputs": [],
   "source": [
    "df = chargement_base(path_load, path_save)"
   ]
  },
  {
   "cell_type": "code",
   "execution_count": 8,
   "metadata": {},
   "outputs": [],
   "source": [
    "nettoyage = Nettoyage(df)"
   ]
  },
  {
   "cell_type": "markdown",
   "metadata": {},
   "source": [
    "# Nettoyage préliminaire"
   ]
  },
  {
   "cell_type": "code",
   "execution_count": 9,
   "metadata": {},
   "outputs": [],
   "source": [
    "df = nettoyage.nettoyer_colonnes()"
   ]
  },
  {
   "cell_type": "code",
   "execution_count": 10,
   "metadata": {},
   "outputs": [],
   "source": [
    "colonnes_a_renseigner = ['matiere_boitier',\n",
    "                         'matiere_bracelet',\n",
    "                         'sexe',\n",
    "                         'diametre',\n",
    "                         'etencheite',\n",
    "                         'matiere_lunette',\n",
    "                         'matiere_verre',\n",
    "                         'boucle',\n",
    "                         'matiere_boucle',\n",
    "                         'rouage',\n",
    "                         'reserve_de_marche', \n",
    "                         'mouvement']\n",
    "\n",
    "for col in colonnes_a_renseigner:\n",
    "    df = nettoyage.remplissage(col)"
   ]
  },
  {
   "cell_type": "code",
   "execution_count": 11,
   "metadata": {},
   "outputs": [],
   "source": [
    "df = nettoyage.remplissage_mouvement()\n",
    "df = nettoyage.remplissage_reserve_marche()\n",
    "df = nettoyage.compteur_complications('fonctions')\n",
    "df = nettoyage.suppression_colonnes()"
   ]
  },
  {
   "cell_type": "markdown",
   "metadata": {},
   "source": [
    "# Mise au format adéquat des variables  "
   ]
  },
  {
   "cell_type": "code",
   "execution_count": 12,
   "metadata": {},
   "outputs": [],
   "source": [
    "df = nettoyage.mise_en_forme()\n",
    "df = nettoyage.nettoyer_matiere_boitier()\n",
    "df = nettoyage.matiere()\n",
    "df = nettoyage.mapping_matiere()\n",
    "df = nettoyage.application_extraction_annee()\n",
    "df = nettoyage.regroupement_etat_montres()\n",
    "df = nettoyage.extraction_elements_avant_euro()\n",
    "df = nettoyage.nettoyer_valeurs('prix')\n",
    "df = nettoyage.extraction_integer()"
   ]
  },
  {
   "cell_type": "code",
   "execution_count": 13,
   "metadata": {},
   "outputs": [],
   "source": [
    "df.to_csv('/Users/f.b/Desktop/Data_Science/Clock_industry/scripts/cleaning_analysis/propre/propre.csv')"
   ]
  }
 ],
 "metadata": {
  "kernelspec": {
   "display_name": "Python 3",
   "language": "python",
   "name": "python3"
  },
  "language_info": {
   "codemirror_mode": {
    "name": "ipython",
    "version": 3
   },
   "file_extension": ".py",
   "mimetype": "text/x-python",
   "name": "python",
   "nbconvert_exporter": "python",
   "pygments_lexer": "ipython3",
   "version": "3.11.7"
  }
 },
 "nbformat": 4,
 "nbformat_minor": 2
}
